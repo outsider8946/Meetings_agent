{
 "cells": [
  {
   "cell_type": "code",
   "execution_count": 2,
   "id": "1ca99daf",
   "metadata": {},
   "outputs": [],
   "source": [
    "from dotenv import load_dotenv\n",
    "from utils.llm import LLMWorker\n",
    "from utils.config_loader import config\n",
    "\n",
    "load_dotenv()\n",
    "llm = LLMWorker(config).llm"
   ]
  },
  {
   "cell_type": "code",
   "execution_count": 6,
   "id": "86484dd0",
   "metadata": {},
   "outputs": [],
   "source": [
    "from typing import Dict\n",
    "from pydantic import BaseModel, Field\n",
    "from langchain_core.tools import tool\n",
    "\n",
    "@tool('calculate_tool')\n",
    "def calculate_tool(a: int, b:int) -> int:\n",
    "    \"\"\"Используй чтобы сложить два числа\"\"\"\n",
    "    return a + b\n",
    "\n",
    "@tool('weather_tool')\n",
    "def weather_tool() -> str:\n",
    "    \"Используй, чтобы узнать погоду\"\n",
    "    return \"Сегодня солнечно!\"\n",
    "\n",
    "llm_with_tools  = llm.bind_tools([calculate_tool, weather_tool])"
   ]
  },
  {
   "cell_type": "code",
   "execution_count": null,
   "id": "66ff90a1",
   "metadata": {},
   "outputs": [
    {
     "name": "stderr",
     "output_type": "stream",
     "text": [
      "INFO:httpx:HTTP Request: POST https://openrouter.ai/api/v1/chat/completions \"HTTP/1.1 429 Too Many Requests\"\n",
      "INFO:openai._base_client:Retrying request to /chat/completions in 0.446122 seconds\n",
      "INFO:httpx:HTTP Request: POST https://openrouter.ai/api/v1/chat/completions \"HTTP/1.1 429 Too Many Requests\"\n",
      "INFO:openai._base_client:Retrying request to /chat/completions in 0.790779 seconds\n"
     ]
    }
   ],
   "source": [
    "llm_with_tools.invoke(\"Как дела?\")"
   ]
  },
  {
   "cell_type": "code",
   "execution_count": null,
   "id": "91905500",
   "metadata": {},
   "outputs": [],
   "source": [
    "AIMessage(content='', additional_kwargs={'tool_calls': [{'id': 'call_5714039062ae4282913bb2fe', 'function': {'arguments': '{\"a\":2,\"b\":100}', 'name': 'calculate_tool'}, 'type': 'function', 'index': 0}], 'refusal': None}, response_metadata={'token_usage': {'completion_tokens': 24, 'prompt_tokens': 222, 'total_tokens': 246, 'completion_tokens_details': None, 'prompt_tokens_details': None}, 'model_name': 'deepseek/deepseek-chat-v3-0324:free', 'system_fingerprint': None, 'id': 'gen-1755704796-SOp1jEjIVVbbEqRSqlA6', 'service_tier': None, 'finish_reason': 'tool_calls', 'logprobs': None}, id='run--3159d65e-5176-4556-8453-764387ff4d9c-0', tool_calls=[{'name': 'calculate_tool', 'args': {'a': 2, 'b': 100}, 'id': 'call_5714039062ae4282913bb2fe', 'type': 'tool_call'}], usage_metadata={'input_tokens': 222, 'output_tokens': 24, 'total_tokens': 246, 'input_token_details': {}, 'output_token_details': {}})"
   ]
  },
  {
   "cell_type": "code",
   "execution_count": 3,
   "id": "80221ea1",
   "metadata": {},
   "outputs": [
    {
     "data": {
      "text/plain": [
       "[{'id': 'KAN-11',\n",
       "  'name': 'Подготовка кейсов для презентации',\n",
       "  'description': 'Олег должен подготовить кейсы для презентации модуля прогнозирования спроса',\n",
       "  'reporter': 'Максим Абрамов',\n",
       "  'assigned': 'Олег'},\n",
       " {'id': 'KAN-10',\n",
       "  'name': 'Демо-версия модуля 1С',\n",
       "  'description': 'Антон должен подготовить демо-версию модуля 1С к 15-му числу',\n",
       "  'reporter': 'Максим Абрамов',\n",
       "  'assigned': 'Антон'},\n",
       " {'id': 'KAN-9',\n",
       "  'name': 'Тестирование сценариев оповещений',\n",
       "  'description': 'Олег должен протестировать сценарии оповещений о критичных остатках после интеграции с 1С',\n",
       "  'reporter': 'Максим Абрамов',\n",
       "  'assigned': 'Олег'},\n",
       " {'id': 'KAN-8',\n",
       "  'name': 'Изучение аналогичных решений',\n",
       "  'description': 'Олег продолжает изучать аналогичные решения',\n",
       "  'reporter': 'Максим Абрамов',\n",
       "  'assigned': 'Олег'},\n",
       " {'id': 'KAN-7',\n",
       "  'name': 'Оценка сроков на ТЗ для прогнозирования спроса',\n",
       "  'description': 'Антон должен оценить сроки на ТЗ для модуля прогнозирования спроса',\n",
       "  'reporter': 'Максим Абрамов',\n",
       "  'assigned': 'Антон'},\n",
       " {'id': 'KAN-6',\n",
       "  'name': 'Прогнозирование спроса',\n",
       "  'description': 'Запустить модуль прогнозирования спроса до конца квартала, амбициозно, но необходимо',\n",
       "  'reporter': 'Максим Абрамов',\n",
       "  'assigned': 'Антон'},\n",
       " {'id': 'KAN-5',\n",
       "  'name': 'Интеграция с 1С',\n",
       "  'description': 'Ускорить интеграцию с 1С, так как это критично для клиента',\n",
       "  'reporter': 'Максим Абрамов',\n",
       "  'assigned': 'Антон'}]"
      ]
     },
     "execution_count": 3,
     "metadata": {},
     "output_type": "execute_result"
    }
   ],
   "source": [
    "from utils.models import AgentState\n",
    "from utils.jira_api import get_tasks\n",
    "\n",
    "state = AgentState({\n",
    "            'input': None,\n",
    "            'dialog': None,\n",
    "            'names': None,\n",
    "            'classify_result': None,\n",
    "            'users': None,\n",
    "            'accounts': None,\n",
    "            'extracted_tasks': None,\n",
    "            'summary': None,\n",
    "            'feedback': None,\n",
    "            'report': None,\n",
    "            'jira_tasks': None,\n",
    "            'matched_tasks': None\n",
    "        })\n",
    "\n",
    "state['jira_tasks'] = get_tasks()\n",
    "state['jira_tasks']\n"
   ]
  },
  {
   "cell_type": "code",
   "execution_count": 4,
   "id": "c6579b35",
   "metadata": {},
   "outputs": [
    {
     "name": "stderr",
     "output_type": "stream",
     "text": [
      "INFO:httpx:HTTP Request: POST https://openrouter.ai/api/v1/chat/completions \"HTTP/1.1 200 OK\"\n"
     ]
    },
    {
     "data": {
      "text/plain": [
       "{'new_tasks': [],\n",
       " 'unchanged_tasks': [{'id': 'KAN-11',\n",
       "   'name': 'Подготовка кейсов для презентации',\n",
       "   'description': 'Олег должен подготовить кейсы для презентации модуля прогнозирования спроса',\n",
       "   'reporter': 'Максим Абрамов',\n",
       "   'assigned': 'Олег'},\n",
       "  {'id': 'KAN-10',\n",
       "   'name': 'Демо-версия модуля 1С',\n",
       "   'description': 'Антон должен подготовить демо-версию модуля 1С к 15-му числу',\n",
       "   'reporter': 'Максим Абрамов',\n",
       "   'assigned': 'Антон'},\n",
       "  {'id': 'KAN-9',\n",
       "   'name': 'Тестирование сценариев оповещений',\n",
       "   'description': 'Олег должен протестировать сценарии оповещений о критичных остатках после интеграции с 1С',\n",
       "   'reporter': 'Максим Абрамов',\n",
       "   'assigned': 'Олег'},\n",
       "  {'id': 'KAN-8',\n",
       "   'name': 'Изучение аналогичных решений',\n",
       "   'description': 'Олег продолжает изучать аналогичные решения',\n",
       "   'reporter': 'Максим Абрамов',\n",
       "   'assigned': 'Олег'},\n",
       "  {'id': 'KAN-6',\n",
       "   'name': 'Прогнозирование спроса',\n",
       "   'description': 'Запустить модуль прогнозирования спроса до конца квартала, амбициозно, но необходимо',\n",
       "   'reporter': 'Максим Абрамов',\n",
       "   'assigned': 'Антон'}],\n",
       " 'updated_tasks': [{'id': 'KAN-7',\n",
       "   'name': 'Оценка сроков на ТЗ для прогнозирования спроса',\n",
       "   'description': 'Антон должен оценить сроки на ТЗ для модуля прогнозирования спроса | Максим Абрамов скорректирует ТЗ для модуля прогнозирования спроса',\n",
       "   'reporter': 'Максим Абрамов',\n",
       "   'assigned': 'Антон'},\n",
       "  {'id': 'KAN-5',\n",
       "   'name': 'Интеграция с 1С',\n",
       "   'description': 'Ускорить интеграцию с 1С, так как это критично для клиента | Исправить ускорение интеграции 1С, так как нашлись баги',\n",
       "   'reporter': 'Максим Абрамов',\n",
       "   'assigned': 'Антон'}]}"
      ]
     },
     "execution_count": 4,
     "metadata": {},
     "output_type": "execute_result"
    }
   ],
   "source": [
    "from utils.nodes import match_tasks_node\n",
    "\n",
    "dummy_tasks = [\n",
    "    {\n",
    "        'name': 'Корректировка ТЗ по срокам',\n",
    "        'description': 'Максим Абрамов скорректирует ТЗ для модуля прогнозирования спроса',\n",
    "        'reporter':'Максим Абрамов',\n",
    "        'assigned':'Максим Абрамов'\n",
    "    },\n",
    "    {\n",
    "        'name': 'Валидирование интеграции 1C',\n",
    "        'description': 'Исправить ускорение интеграции 1С, так как нашлись баги',\n",
    "        'reporter':'Антон',\n",
    "        'assigned':'Антон'\n",
    "    }\n",
    "]\n",
    "state['extracted_tasks'] = dummy_tasks\n",
    "out_state = match_tasks_node(state)\n",
    "out_state['matched_tasks']"
   ]
  },
  {
   "cell_type": "code",
   "execution_count": 8,
   "id": "276dbb17",
   "metadata": {},
   "outputs": [
    {
     "name": "stdout",
     "output_type": "stream",
     "text": [
      "{\n",
      "    \"new_tasks\": [],\n",
      "    \"unchanged_tasks\": [\n",
      "        {\n",
      "            \"id\": \"KAN-11\",\n",
      "            \"name\": \"Подготовка кейсов для презентации\",\n",
      "            \"description\": \"Олег должен подготовить кейсы для презентации модуля прогнозирования спроса\",\n",
      "            \"reporter\": \"Максим Абрамов\",\n",
      "            \"assigned\": \"Олег\"\n",
      "        },\n",
      "        {\n",
      "            \"id\": \"KAN-10\",\n",
      "            \"name\": \"Демо-версия модуля 1С\",\n",
      "            \"description\": \"Антон должен подготовить демо-версию модуля 1С к 15-му числу\",\n",
      "            \"reporter\": \"Максим Абрамов\",\n",
      "            \"assigned\": \"Антон\"\n",
      "        },\n",
      "        {\n",
      "            \"id\": \"KAN-9\",\n",
      "            \"name\": \"Тестирование сценариев оповещений\",\n",
      "            \"description\": \"Олег должен протестировать сценарии оповещений о критичных остатках после интеграции с 1С\",\n",
      "            \"reporter\": \"Максим Абрамов\",\n",
      "            \"assigned\": \"Олег\"\n",
      "        },\n",
      "        {\n",
      "            \"id\": \"KAN-8\",\n",
      "            \"name\": \"Изучение аналогичных решений\",\n",
      "            \"description\": \"Олег продолжает изучать аналогичные решения\",\n",
      "            \"reporter\": \"Максим Абрамов\",\n",
      "            \"assigned\": \"Олег\"\n",
      "        },\n",
      "        {\n",
      "            \"id\": \"KAN-6\",\n",
      "            \"name\": \"Прогнозирование спроса\",\n",
      "            \"description\": \"Запустить модуль прогнозирования спроса до конца квартала, амбициозно, но необходимо\",\n",
      "            \"reporter\": \"Максим Абрамов\",\n",
      "            \"assigned\": \"Антон\"\n",
      "        }\n",
      "    ],\n",
      "    \"updated_tasks\": [\n",
      "        {\n",
      "            \"id\": \"KAN-7\",\n",
      "            \"name\": \"Оценка сроков на ТЗ для прогнозирования спроса\",\n",
      "            \"description\": \"Антон должен оценить сроки на ТЗ для модуля прогнозирования спроса | Максим Абрамов скорректирует ТЗ для модуля прогнозирования спроса\",\n",
      "            \"reporter\": \"Максим Абрамов\",\n",
      "            \"assigned\": \"Антон\"\n",
      "        },\n",
      "        {\n",
      "            \"id\": \"KAN-5\",\n",
      "            \"name\": \"Интеграция с 1С\",\n",
      "            \"description\": \"Ускорить интеграцию с 1С, так как это критично для клиента | Исправить ускорение интеграции 1С, так как нашлись баги\",\n",
      "            \"reporter\": \"Максим Абрамов\",\n",
      "            \"assigned\": \"Антон\"\n",
      "        }\n",
      "    ]\n",
      "}\n"
     ]
    }
   ],
   "source": [
    "import json\n",
    "\n",
    "print(json.dumps(out_state['matched_tasks'], indent=4, ensure_ascii=False))"
   ]
  },
  {
   "cell_type": "code",
   "execution_count": 4,
   "id": "f37304a9",
   "metadata": {},
   "outputs": [
    {
     "name": "stdout",
     "output_type": "stream",
     "text": [
      "updated tasks\n",
      "{\n",
      "    \"id\": \"10069\",\n",
      "    \"name\": \"Оценка сроков на ТЗ для прогнозирования спроса\",\n",
      "    \"description\": \"Антон должен оценить сроки на ТЗ для модуля прогнозирования спроса | Максим Абрамов скорректирует ТЗ для модуля прогнозирования спроса\",\n",
      "    \"reporter\": \"Максим Абрамов\",\n",
      "    \"assigned\": \"Антон\"\n",
      "}\n",
      "{\n",
      "    \"id\": \"10066\",\n",
      "    \"name\": \"Интеграция с 1С\",\n",
      "    \"description\": \"Ускорить интеграцию с 1С, так как это критично для клиента | Исправить ускорение интеграции 1С, так как нашлись баги\",\n",
      "    \"reporter\": \"Максим Абрамов\",\n",
      "    \"assigned\": \"Антон\"\n",
      "}\n"
     ]
    }
   ],
   "source": [
    "import json\n",
    "\n",
    "matched_tasks = json.loads(out_state['matched_tasks'])\n",
    "updated_tasks = matched_tasks['updated_tasks']\n",
    "new_tasks = matched_tasks['new_tasks']\n",
    "unchanged_tasks = matched_tasks['unchanged_tasks']\n",
    "\n",
    "print('updated tasks')\n",
    "for item in updated_tasks:\n",
    "    print(json.dumps(item, indent=4, ensure_ascii=False))"
   ]
  },
  {
   "cell_type": "code",
   "execution_count": 5,
   "id": "daef5244",
   "metadata": {},
   "outputs": [
    {
     "name": "stdout",
     "output_type": "stream",
     "text": [
      "new tasks\n"
     ]
    }
   ],
   "source": [
    "print('new tasks')\n",
    "for item in new_tasks:\n",
    "    print(json.dumps(item, indent=4, ensure_ascii=False))"
   ]
  },
  {
   "cell_type": "code",
   "execution_count": 6,
   "id": "d6862c31",
   "metadata": {},
   "outputs": [
    {
     "name": "stdout",
     "output_type": "stream",
     "text": [
      "unchanged tasks\n",
      "{\n",
      "    \"id\": \"10074\",\n",
      "    \"name\": \"Подготовка кейсов для презентации\",\n",
      "    \"description\": \"Олег должен подготовить кейсы для презентации модуля прогнозирования спроса\",\n",
      "    \"reporter\": \"Максим Абрамов\",\n",
      "    \"assigned\": \"Олег\"\n",
      "}\n",
      "{\n",
      "    \"id\": \"10073\",\n",
      "    \"name\": \"Демо-версия модуля 1С\",\n",
      "    \"description\": \"Антон должен подготовить демо-версию модуля 1С к 15-му числу\",\n",
      "    \"reporter\": \"Максим Абрамов\",\n",
      "    \"assigned\": \"Антон\"\n",
      "}\n",
      "{\n",
      "    \"id\": \"10071\",\n",
      "    \"name\": \"Тестирование сценариев оповещений\",\n",
      "    \"description\": \"Олег должен протестировать сценарии оповещений о критичных остатках после интеграции с 1С\",\n",
      "    \"reporter\": \"Максим Абрамов\",\n",
      "    \"assigned\": \"Олег\"\n",
      "}\n",
      "{\n",
      "    \"id\": \"10070\",\n",
      "    \"name\": \"Изучение аналогичных решений\",\n",
      "    \"description\": \"Олег должен изучить аналогичные решения для модуля прогнозирования спроса\",\n",
      "    \"reporter\": \"Максим Абрамов\",\n",
      "    \"assigned\": \"Олег\"\n",
      "}\n",
      "{\n",
      "    \"id\": \"10068\",\n",
      "    \"name\": \"Прогнозирование спроса\",\n",
      "    \"description\": \"Запустить модуль прогнозирования спроса до конца квартала, амбициозно, но необходимо\",\n",
      "    \"reporter\": \"Максим Абрамов\",\n",
      "    \"assigned\": \"Антон\"\n",
      "}\n"
     ]
    }
   ],
   "source": [
    "print('unchanged tasks')\n",
    "for item in unchanged_tasks:\n",
    "    print(json.dumps(item, indent=4, ensure_ascii=False))"
   ]
  },
  {
   "cell_type": "code",
   "execution_count": 2,
   "id": "d0673b50",
   "metadata": {},
   "outputs": [
    {
     "name": "stdout",
     "output_type": "stream",
     "text": [
      "Status code:  204\n",
      "\n",
      "{}\n",
      "Status code:  204\n",
      "\n",
      "{}\n"
     ]
    }
   ],
   "source": [
    "from utils.jira_api import update_task\n",
    "\n",
    "print(update_task(task_id='KAN-8', description='Олег продолжает изучать аналогичные решения'))"
   ]
  },
  {
   "cell_type": "code",
   "execution_count": 1,
   "id": "a8686707",
   "metadata": {},
   "outputs": [
    {
     "name": "stdout",
     "output_type": "stream",
     "text": [
      "Status code:  400\n",
      "{\"errorMessages\":[],\"errors\":{\"description\":\"Operation value must be an Atlassian Document (see the Atlassian Document Format)\"}}\n",
      "{}\n"
     ]
    },
    {
     "data": {
      "text/plain": [
       "[{'id': 'KAN-11',\n",
       "  'name': 'Подготовка кейсов для презентации',\n",
       "  'description': 'Олег должен подготовить кейсы для презентации модуля прогнозирования спроса',\n",
       "  'reporter': 'Максим Абрамов',\n",
       "  'assigned': 'Олег'},\n",
       " {'id': 'KAN-10',\n",
       "  'name': 'Демо-версия модуля 1С',\n",
       "  'description': 'Антон должен подготовить демо-версию модуля 1С к 15-му числу',\n",
       "  'reporter': 'Максим Абрамов',\n",
       "  'assigned': 'Антон'},\n",
       " {'id': 'KAN-9',\n",
       "  'name': 'Тестирование сценариев оповещений',\n",
       "  'description': 'Олег должен протестировать сценарии оповещений о критичных остатках после интеграции с 1С',\n",
       "  'reporter': 'Максим Абрамов',\n",
       "  'assigned': 'Олег'},\n",
       " {'id': 'KAN-8',\n",
       "  'name': 'Изучение аналогичных решений',\n",
       "  'description': 'Олег должен изучить аналогичные решения для модуля прогнозирования спроса',\n",
       "  'reporter': 'Максим Абрамов',\n",
       "  'assigned': 'Олег'},\n",
       " {'id': 'KAN-7',\n",
       "  'name': 'Оценка сроков на ТЗ для прогнозирования спроса',\n",
       "  'description': 'Антон должен оценить сроки на ТЗ для модуля прогнозирования спроса',\n",
       "  'reporter': 'Максим Абрамов',\n",
       "  'assigned': 'Антон'},\n",
       " {'id': 'KAN-6',\n",
       "  'name': 'Прогнозирование спроса',\n",
       "  'description': 'Запустить модуль прогнозирования спроса до конца квартала, амбициозно, но необходимо',\n",
       "  'reporter': 'Максим Абрамов',\n",
       "  'assigned': 'Антон'},\n",
       " {'id': 'KAN-5',\n",
       "  'name': 'Интеграция с 1С',\n",
       "  'description': 'Ускорить интеграцию с 1С, так как это критично для клиента',\n",
       "  'reporter': 'Максим Абрамов',\n",
       "  'assigned': 'Антон'}]"
      ]
     },
     "execution_count": 1,
     "metadata": {},
     "output_type": "execute_result"
    }
   ],
   "source": [
    "from utils import jira_api\n",
    "\n",
    "d = jira_api.get_tasks()\n",
    "d"
   ]
  },
  {
   "cell_type": "code",
   "execution_count": 2,
   "id": "c690b82c",
   "metadata": {},
   "outputs": [
    {
     "data": {
      "text/plain": [
       "dict_keys(['id', 'name', 'description', 'reporter', 'assigned'])"
      ]
     },
     "execution_count": 2,
     "metadata": {},
     "output_type": "execute_result"
    }
   ],
   "source": [
    "d[0].keys()"
   ]
  },
  {
   "cell_type": "code",
   "execution_count": 3,
   "id": "479b1318",
   "metadata": {},
   "outputs": [
    {
     "data": {
      "text/plain": [
       "'10074'"
      ]
     },
     "execution_count": 3,
     "metadata": {},
     "output_type": "execute_result"
    }
   ],
   "source": [
    "d[0]['id']"
   ]
  },
  {
   "cell_type": "code",
   "execution_count": null,
   "id": "99144ce8",
   "metadata": {},
   "outputs": [
    {
     "data": {
      "text/plain": [
       "{'summary': 'Подготовка кейсов для презентации',\n",
       " 'description': {'type': 'doc',\n",
       "  'version': 1,\n",
       "  'content': [{'type': 'paragraph',\n",
       "    'content': [{'type': 'text',\n",
       "      'text': 'Олег должен подготовить кейсы для презентации модуля прогнозирования спроса'}]}]},\n",
       " 'reporter': {'self': 'https://dolor.atlassian.net/rest/api/3/user?accountId=62010cc3ff9289006eeaf4c6',\n",
       "  'accountId': '62010cc3ff9289006eeaf4c6',\n",
       "  'emailAddress': 'abramovmaxim.894@gmail.com',\n",
       "  'avatarUrls': {'48x48': 'https://secure.gravatar.com/avatar/40818c0ff5a3794cac4e4a48a5bbae1d?d=https%3A%2F%2Favatar-management--avatars.us-west-2.prod.public.atl-paas.net%2Fdefault-avatar-6.png',\n",
       "   '24x24': 'https://secure.gravatar.com/avatar/40818c0ff5a3794cac4e4a48a5bbae1d?d=https%3A%2F%2Favatar-management--avatars.us-west-2.prod.public.atl-paas.net%2Fdefault-avatar-6.png',\n",
       "   '16x16': 'https://secure.gravatar.com/avatar/40818c0ff5a3794cac4e4a48a5bbae1d?d=https%3A%2F%2Favatar-management--avatars.us-west-2.prod.public.atl-paas.net%2Fdefault-avatar-6.png',\n",
       "   '32x32': 'https://secure.gravatar.com/avatar/40818c0ff5a3794cac4e4a48a5bbae1d?d=https%3A%2F%2Favatar-management--avatars.us-west-2.prod.public.atl-paas.net%2Fdefault-avatar-6.png'},\n",
       "  'displayName': 'Максим Абрамов',\n",
       "  'active': True,\n",
       "  'timeZone': 'Europe/Kaliningrad',\n",
       "  'accountType': 'atlassian'},\n",
       " 'assignee': {'self': 'https://dolor.atlassian.net/rest/api/3/user?accountId=62010ca87334070067539329',\n",
       "  'accountId': '62010ca87334070067539329',\n",
       "  'avatarUrls': {'48x48': 'https://secure.gravatar.com/avatar/478f7cfc81ae57a26713a08b02066123?d=https%3A%2F%2Favatar-management--avatars.us-west-2.prod.public.atl-paas.net%2Fdefault-avatar-0.png',\n",
       "   '24x24': 'https://secure.gravatar.com/avatar/478f7cfc81ae57a26713a08b02066123?d=https%3A%2F%2Favatar-management--avatars.us-west-2.prod.public.atl-paas.net%2Fdefault-avatar-0.png',\n",
       "   '16x16': 'https://secure.gravatar.com/avatar/478f7cfc81ae57a26713a08b02066123?d=https%3A%2F%2Favatar-management--avatars.us-west-2.prod.public.atl-paas.net%2Fdefault-avatar-0.png',\n",
       "   '32x32': 'https://secure.gravatar.com/avatar/478f7cfc81ae57a26713a08b02066123?d=https%3A%2F%2Favatar-management--avatars.us-west-2.prod.public.atl-paas.net%2Fdefault-avatar-0.png'},\n",
       "  'displayName': 'Олег',\n",
       "  'active': True,\n",
       "  'timeZone': 'Europe/Kaliningrad',\n",
       "  'accountType': 'atlassian'}}"
      ]
     },
     "execution_count": 3,
     "metadata": {},
     "output_type": "execute_result"
    },
    {
     "ename": "",
     "evalue": "",
     "output_type": "error",
     "traceback": [
      "\u001b[1;31mThe Kernel crashed while executing code in the current cell or a previous cell. \n",
      "\u001b[1;31mPlease review the code in the cell(s) to identify a possible cause of the failure. \n",
      "\u001b[1;31mClick <a href='https://aka.ms/vscodeJupyterKernelCrash'>here</a> for more info. \n",
      "\u001b[1;31mView Jupyter <a href='command:jupyter.viewOutput'>log</a> for further details."
     ]
    }
   ],
   "source": [
    "d[0]['fields']"
   ]
  }
 ],
 "metadata": {
  "kernelspec": {
   "display_name": "meetings_agent",
   "language": "python",
   "name": "python3"
  },
  "language_info": {
   "codemirror_mode": {
    "name": "ipython",
    "version": 3
   },
   "file_extension": ".py",
   "mimetype": "text/x-python",
   "name": "python",
   "nbconvert_exporter": "python",
   "pygments_lexer": "ipython3",
   "version": "3.10.18"
  }
 },
 "nbformat": 4,
 "nbformat_minor": 5
}
