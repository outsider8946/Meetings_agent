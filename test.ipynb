{
 "cells": [
  {
   "cell_type": "code",
   "execution_count": 5,
   "id": "1ca99daf",
   "metadata": {},
   "outputs": [],
   "source": [
    "from dotenv import load_dotenv\n",
    "from utils.llm import LLMWorker\n",
    "from utils.config_loader import config\n",
    "\n",
    "load_dotenv()\n",
    "llm = LLMWorker(config).llm"
   ]
  },
  {
   "cell_type": "code",
   "execution_count": 6,
   "id": "86484dd0",
   "metadata": {},
   "outputs": [],
   "source": [
    "from typing import Dict\n",
    "from pydantic import BaseModel, Field\n",
    "from langchain_core.tools import tool\n",
    "\n",
    "@tool('calculate_tool')\n",
    "def calculate_tool(a: int, b:int) -> int:\n",
    "    \"\"\"Используй чтобы сложить два числа\"\"\"\n",
    "    return a + b\n",
    "\n",
    "@tool('weather_tool')\n",
    "def weather_tool() -> str:\n",
    "    \"Используй, чтобы узнать погоду\"\n",
    "    return \"Сегодня солнечно!\"\n",
    "\n",
    "llm_with_tools  = llm.bind_tools([calculate_tool, weather_tool])"
   ]
  },
  {
   "cell_type": "code",
   "execution_count": null,
   "id": "66ff90a1",
   "metadata": {},
   "outputs": [
    {
     "name": "stderr",
     "output_type": "stream",
     "text": [
      "INFO:httpx:HTTP Request: POST https://openrouter.ai/api/v1/chat/completions \"HTTP/1.1 429 Too Many Requests\"\n",
      "INFO:openai._base_client:Retrying request to /chat/completions in 0.446122 seconds\n",
      "INFO:httpx:HTTP Request: POST https://openrouter.ai/api/v1/chat/completions \"HTTP/1.1 429 Too Many Requests\"\n",
      "INFO:openai._base_client:Retrying request to /chat/completions in 0.790779 seconds\n"
     ]
    }
   ],
   "source": [
    "llm_with_tools.invoke(\"Как дела?\")"
   ]
  },
  {
   "cell_type": "code",
   "execution_count": null,
   "id": "91905500",
   "metadata": {},
   "outputs": [],
   "source": [
    "AIMessage(content='', additional_kwargs={'tool_calls': [{'id': 'call_5714039062ae4282913bb2fe', 'function': {'arguments': '{\"a\":2,\"b\":100}', 'name': 'calculate_tool'}, 'type': 'function', 'index': 0}], 'refusal': None}, response_metadata={'token_usage': {'completion_tokens': 24, 'prompt_tokens': 222, 'total_tokens': 246, 'completion_tokens_details': None, 'prompt_tokens_details': None}, 'model_name': 'deepseek/deepseek-chat-v3-0324:free', 'system_fingerprint': None, 'id': 'gen-1755704796-SOp1jEjIVVbbEqRSqlA6', 'service_tier': None, 'finish_reason': 'tool_calls', 'logprobs': None}, id='run--3159d65e-5176-4556-8453-764387ff4d9c-0', tool_calls=[{'name': 'calculate_tool', 'args': {'a': 2, 'b': 100}, 'id': 'call_5714039062ae4282913bb2fe', 'type': 'tool_call'}], usage_metadata={'input_tokens': 222, 'output_tokens': 24, 'total_tokens': 246, 'input_token_details': {}, 'output_token_details': {}})"
   ]
  },
  {
   "cell_type": "code",
   "execution_count": 1,
   "id": "80221ea1",
   "metadata": {},
   "outputs": [
    {
     "data": {
      "text/plain": [
       "[{'name': 'Подготовка кейсов для презентации',\n",
       "  'description': 'Олег должен подготовить кейсы для презентации модуля прогнозирования спроса',\n",
       "  'reporter': 'Максим Абрамов',\n",
       "  'assigned': 'Олег'},\n",
       " {'name': 'Демо-версия модуля 1С',\n",
       "  'description': 'Антон должен подготовить демо-версию модуля 1С к 15-му числу',\n",
       "  'reporter': 'Максим Абрамов',\n",
       "  'assigned': 'Антон'},\n",
       " {'name': 'Тестирование сценариев оповещений',\n",
       "  'description': 'Олег должен протестировать сценарии оповещений о критичных остатках после интеграции с 1С',\n",
       "  'reporter': 'Максим Абрамов',\n",
       "  'assigned': 'Олег'},\n",
       " {'name': 'Изучение аналогичных решений',\n",
       "  'description': 'Олег должен изучить аналогичные решения для модуля прогнозирования спроса',\n",
       "  'reporter': 'Максим Абрамов',\n",
       "  'assigned': 'Олег'},\n",
       " {'name': 'Оценка сроков на ТЗ для прогнозирования спроса',\n",
       "  'description': 'Антон должен оценить сроки на ТЗ для модуля прогнозирования спроса',\n",
       "  'reporter': 'Максим Абрамов',\n",
       "  'assigned': 'Антон'},\n",
       " {'name': 'Прогнозирование спроса',\n",
       "  'description': 'Запустить модуль прогнозирования спроса до конца квартала, амбициозно, но необходимо',\n",
       "  'reporter': 'Максим Абрамов',\n",
       "  'assigned': 'Антон'},\n",
       " {'name': 'Интеграция с 1С',\n",
       "  'description': 'Ускорить интеграцию с 1С, так как это критично для клиента',\n",
       "  'reporter': 'Максим Абрамов',\n",
       "  'assigned': 'Антон'}]"
      ]
     },
     "execution_count": 1,
     "metadata": {},
     "output_type": "execute_result"
    }
   ],
   "source": [
    "from utils.models import AgentState\n",
    "from utils.jira_api import get_tasks\n",
    "\n",
    "state = AgentState({\n",
    "            'input': None,\n",
    "            'dialog': None,\n",
    "            'names': None,\n",
    "            'validate_result': None,\n",
    "            'users': None,\n",
    "            'accounts': None,\n",
    "            'extracted_tasks': None,\n",
    "            'summary': None,\n",
    "            'feedback': None,\n",
    "            'report': None,\n",
    "            'jira_tasks': None,\n",
    "            'matched_tasks': None\n",
    "        })\n",
    "\n",
    "state['jira_tasks'] = get_tasks()\n",
    "state['jira_tasks']\n"
   ]
  },
  {
   "cell_type": "code",
   "execution_count": null,
   "id": "c6579b35",
   "metadata": {},
   "outputs": [
    {
     "name": "stderr",
     "output_type": "stream",
     "text": [
      "INFO:httpx:HTTP Request: POST https://openrouter.ai/api/v1/chat/completions \"HTTP/1.1 200 OK\"\n"
     ]
    },
    {
     "data": {
      "text/plain": [
       "'{\\n  \"updated_tasks\": [\\n    {\\n      \"name\": \"Интеграция с 1С\",\\n      \"description\": \"Ускорить интеграцию с 1С, так как это критично для клиента | Исправить ускорение интеграции 1С, так как нашлись баги\",\\n      \"reporter\": \"Максим Абрамов\",\\n      \"assigned\": \"Антон\"\\n    }\\n  ],\\n  \"new_tasks\": [\\n    {\\n      \"name\": \"Корректировка ТЗ по срокам\",\\n      \"description\": \"Максим Абрамов скорректирует ТЗ для модуля прогнозирования спроса\",\\n      \"reporter\": \"Максим Абрамов\",\\n      \"assigned\": \"Максим Абрамов\"\\n    }\\n  ],\\n  \"unchanged_tasks\": [\\n    {\\n      \"name\": \"Подготовка кейсов для презентации\",\\n      \"description\": \"Олег должен подготовить кейсы для презентации модуля прогнозирования спроса\",\\n      \"reporter\": \"Максим Абрамов\",\\n      \"assigned\": \"Олег\"\\n    },\\n    {\\n      \"name\": \"Демо-версия модуля 1С\",\\n      \"description\": \"Антон должен подготовить демо-версию модуля 1С к 15-му числу\",\\n      \"reporter\": \"Максим Абрамов\",\\n      \"assigned\": \"Антон\"\\n    },\\n    {\\n      \"name\": \"Тестирование сценариев оповещений\",\\n      \"description\": \"Олег должен протестировать сценарии оповещений о критичных остатках после интеграции с 1С\",\\n      \"reporter\": \"Максим Абрамов\",\\n      \"assigned\": \"Олег\"\\n    },\\n    {\\n      \"name\": \"Изучение аналогичных решений\",\\n      \"description\": \"Олег должен изучить аналогичные решения для модуля прогнозирования спроса\",\\n      \"reporter\": \"Максим Абрамов\",\\n      \"assigned\": \"Олег\"\\n    },\\n    {\\n      \"name\": \"Оценка сроков на ТЗ для прогнозирования спроса\",\\n      \"description\": \"Антон должен оценить сроки на ТЗ для модуля прогнозирования спроса\",\\n      \"reporter\": \"Максим Абрамов\",\\n      \"assigned\": \"Антон\"\\n    },\\n    {\\n      \"name\": \"Прогнозирование спроса\",\\n      \"description\": \"Запустить модуль прогнозирования спроса до конца квартала, амбициозно, но необходимо\",\\n      \"reporter\": \"Максим Абрамов\",\\n      \"assigned\": \"Антон\"\\n    }\\n  ]\\n}'"
      ]
     },
     "execution_count": 2,
     "metadata": {},
     "output_type": "execute_result"
    }
   ],
   "source": [
    "from utils.nodes import match_tasks_node\n",
    "\n",
    "dummy_tasks = [\n",
    "    {\n",
    "        'name': 'Корректировка ТЗ по срокам',\n",
    "        'description': 'Максим Абрамов скорректирует ТЗ для модуля прогнозирования спроса',\n",
    "        'reporter':'Максим Абрамов',\n",
    "        'assigned':'Максим Абрамов'\n",
    "    },\n",
    "    {\n",
    "        'name': 'Валидирование интеграции 1C',\n",
    "        'description': 'Исправить ускорение интеграции 1С, так как нашлись баги',\n",
    "        'reporter':'Антон',\n",
    "        'assigned':'Антон'\n",
    "    }\n",
    "]\n",
    "state['extracted_tasks'] = dummy_tasks\n",
    "out_state = match_tasks_node(state)\n",
    "out_state['matched_tasks']"
   ]
  },
  {
   "cell_type": "code",
   "execution_count": null,
   "id": "f37304a9",
   "metadata": {},
   "outputs": [
    {
     "ename": "TypeError",
     "evalue": "string indices must be integers",
     "output_type": "error",
     "traceback": [
      "\u001b[1;31m---------------------------------------------------------------------------\u001b[0m",
      "\u001b[1;31mTypeError\u001b[0m                                 Traceback (most recent call last)",
      "Cell \u001b[1;32mIn[4], line 3\u001b[0m\n\u001b[0;32m      1\u001b[0m \u001b[38;5;28;01mimport\u001b[39;00m\u001b[38;5;250m \u001b[39m\u001b[38;5;21;01mjson\u001b[39;00m\n\u001b[0;32m      2\u001b[0m matched_tasks \u001b[38;5;241m=\u001b[39m json\u001b[38;5;241m.\u001b[39mdumps(out_state[\u001b[38;5;124m'\u001b[39m\u001b[38;5;124mmatched_tasks\u001b[39m\u001b[38;5;124m'\u001b[39m])\n\u001b[1;32m----> 3\u001b[0m updated_tasks \u001b[38;5;241m=\u001b[39m \u001b[43mmatched_tasks\u001b[49m\u001b[43m[\u001b[49m\u001b[38;5;124;43m'\u001b[39;49m\u001b[38;5;124;43mupdated_tasks\u001b[39;49m\u001b[38;5;124;43m'\u001b[39;49m\u001b[43m]\u001b[49m\n\u001b[0;32m      4\u001b[0m new_tasks \u001b[38;5;241m=\u001b[39m matched_tasks[\u001b[38;5;124m'\u001b[39m\u001b[38;5;124mnew_tasks\u001b[39m\u001b[38;5;124m'\u001b[39m]\n\u001b[0;32m      5\u001b[0m unchanged_tasks \u001b[38;5;241m=\u001b[39m matched_tasks[\u001b[38;5;124m'\u001b[39m\u001b[38;5;124munchanged_tasks\u001b[39m\u001b[38;5;124m'\u001b[39m]\n",
      "\u001b[1;31mTypeError\u001b[0m: string indices must be integers"
     ]
    }
   ],
   "source": [
    "import json\n",
    "\n",
    "matched_tasks = json.loads(out_state['matched_tasks'])\n",
    "updated_tasks = matched_tasks['updated_tasks']\n",
    "new_tasks = matched_tasks['new_tasks']\n",
    "unchanged_tasks = matched_tasks['unchanged_tasks']\n",
    "\n",
    "print('updated tasks')\n",
    "for item in updated_tasks:\n",
    "    print(json.dumps(item, indent=4, ensure_ascii=True))"
   ]
  }
 ],
 "metadata": {
  "kernelspec": {
   "display_name": "meetings_agent",
   "language": "python",
   "name": "python3"
  },
  "language_info": {
   "codemirror_mode": {
    "name": "ipython",
    "version": 3
   },
   "file_extension": ".py",
   "mimetype": "text/x-python",
   "name": "python",
   "nbconvert_exporter": "python",
   "pygments_lexer": "ipython3",
   "version": "3.10.18"
  }
 },
 "nbformat": 4,
 "nbformat_minor": 5
}
